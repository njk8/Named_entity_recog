{
 "cells": [
  {
   "cell_type": "code",
   "execution_count": 12,
   "metadata": {},
   "outputs": [
    {
     "name": "stdout",
     "output_type": "stream",
     "text": [
      " Duplicates 38 found and report saved to ../data/reports/duplicate_report.csv\n",
      " Deduplicated report with  97 saved to ../data/reports/deduplicated_final_data.csv\n"
     ]
    }
   ],
   "source": [
    "import os\n",
    "import pandas as pd\n",
    "\n",
    "# Paths\n",
    "CLEANED_DATA_FILE = \"../data/processed/cleaned_data.csv\"\n",
    "DEDUPLICATED_DATA_FILE = \"../data/reports/deduplicated_final_data.csv\"\n",
    "DUPLICATE_REPORT_FILE = \"../data/reports/duplicate_report.csv\"\n",
    "\n",
    "\n",
    "def detect_duplicates():\n",
    "    \"\"\"Identify duplicate purchase orders based on Delivery Date, Product, Units, and Item Code.\"\"\"\n",
    "    if not CLEANED_DATA_FILE:\n",
    "        print(f\"Error: {CLEANED_DATA_FILE} not found!\")\n",
    "        return\n",
    "    \n",
    "    df = pd.read_csv(CLEANED_DATA_FILE)\n",
    "\n",
    "    # Define duplicate checking criteria\n",
    "    duplicate_columns = [\"Delivery Date\", \"Product\", \"Units\", \"Item Code\", \"Client Name\"]\n",
    "\n",
    "    #FINDING\n",
    "    duplicates = df[df.duplicated(subset=duplicate_columns, keep=False)]\n",
    "\n",
    "    # Remove duplicates (keeping the first occurrence)\n",
    "    deduplicated_df = df.drop_duplicates(subset=duplicate_columns, keep=\"first\")\n",
    "\n",
    "    if not duplicates.empty:\n",
    "        duplicates.to_csv(DUPLICATE_REPORT_FILE, index=False)\n",
    "        print(f\" {len(duplicates)} duplicates found and report saved to {DUPLICATE_REPORT_FILE}\")\n",
    "        deduplicated_df.to_csv(DEDUPLICATED_DATA_FILE, index=False)\n",
    "        print(f\" Deduplicated report with  {len(deduplicated_df)} entries saved to {DEDUPLICATED_DATA_FILE}\")\n",
    "    else:\n",
    "        print(\" No duplicates found.\")\n",
    "\n",
    "if __name__ == \"__main__\":\n",
    "    detect_duplicates()"
   ]
  }
 ],
 "metadata": {
  "kernelspec": {
   "display_name": "novac",
   "language": "python",
   "name": "python3"
  },
  "language_info": {
   "codemirror_mode": {
    "name": "ipython",
    "version": 3
   },
   "file_extension": ".py",
   "mimetype": "text/x-python",
   "name": "python",
   "nbconvert_exporter": "python",
   "pygments_lexer": "ipython3",
   "version": "3.9.21"
  }
 },
 "nbformat": 4,
 "nbformat_minor": 2
}
